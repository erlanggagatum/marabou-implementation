{
 "cells": [
  {
   "cell_type": "code",
   "execution_count": null,
   "metadata": {},
   "outputs": [
    {
     "name": "stderr",
     "output_type": "stream",
     "text": [
      "2024-11-21 18:32:03.975200: I tensorflow/core/platform/cpu_feature_guard.cc:182] This TensorFlow binary is optimized to use available CPU instructions in performance-critical operations.\n",
      "To enable the following instructions: SSE4.1 SSE4.2 AVX AVX2 FMA, in other operations, rebuild TensorFlow with the appropriate compiler flags.\n"
     ]
    }
   ],
   "source": [
    "import sys\n",
    "import os\n",
    "import onnx\n",
    "import tensorflow as tf\n",
    "import numpy as np\n",
    "import tf2onnx\n",
    "\n",
    "from sklearn.datasets import load_iris\n",
    "from sklearn.model_selection import train_test_split\n",
    "from sklearn.preprocessing import StandardScaler"
   ]
  },
  {
   "cell_type": "code",
   "execution_count": 3,
   "metadata": {},
   "outputs": [],
   "source": [
    "data = load_iris()\n",
    "X = data.data  \n",
    "y = data.target"
   ]
  },
  {
   "cell_type": "code",
   "execution_count": 4,
   "metadata": {},
   "outputs": [
    {
     "name": "stderr",
     "output_type": "stream",
     "text": [
      "2024-11-21 18:32:57.466576: I tensorflow/core/common_runtime/process_util.cc:146] Creating new thread pool with default inter op setting: 2. Tune using inter_op_parallelism_threads for best performance.\n"
     ]
    }
   ],
   "source": [
    "X = X[y < 2]  # Select only classes 0 and 1\n",
    "y = y[y < 2]\n",
    "\n",
    "# Train test split\n",
    "X_train, X_test, y_train, y_test = train_test_split(X, y, test_size=0.2, random_state=42)\n",
    "\n",
    "# Normalization\n",
    "scaler = StandardScaler()\n",
    "X_train = scaler.fit_transform(X_train)\n",
    "X_test = scaler.transform(X_test)\n",
    "\n",
    "# Neural network\n",
    "model = tf.keras.models.Sequential([\n",
    "    tf.keras.layers.Dense(10, activation='relu', input_shape=(4,)),  # 4 features for input\n",
    "    tf.keras.layers.Dense(5, activation='relu'),\n",
    "    tf.keras.layers.Dense(1, activation='sigmoid')  # Sigmoid for binary classification\n",
    "])\n"
   ]
  },
  {
   "cell_type": "code",
   "execution_count": 6,
   "metadata": {},
   "outputs": [
    {
     "name": "stdout",
     "output_type": "stream",
     "text": [
      "Epoch 1/5\n",
      "16/16 [==============================] - 1s 30ms/step - loss: 0.6408 - accuracy: 0.8750 - val_loss: 0.6167 - val_accuracy: 1.0000\n",
      "Epoch 2/5\n",
      "16/16 [==============================] - 0s 12ms/step - loss: 0.6147 - accuracy: 0.9844 - val_loss: 0.5915 - val_accuracy: 1.0000\n",
      "Epoch 3/5\n",
      "16/16 [==============================] - 0s 12ms/step - loss: 0.5915 - accuracy: 1.0000 - val_loss: 0.5663 - val_accuracy: 1.0000\n",
      "Epoch 4/5\n",
      "16/16 [==============================] - 0s 14ms/step - loss: 0.5685 - accuracy: 1.0000 - val_loss: 0.5402 - val_accuracy: 1.0000\n",
      "Epoch 5/5\n",
      "16/16 [==============================] - 0s 9ms/step - loss: 0.5438 - accuracy: 1.0000 - val_loss: 0.5132 - val_accuracy: 1.0000\n"
     ]
    },
    {
     "data": {
      "text/plain": [
       "<keras.callbacks.History at 0x7fcf48f22470>"
      ]
     },
     "execution_count": 6,
     "metadata": {},
     "output_type": "execute_result"
    }
   ],
   "source": [
    "# Compile and train model\n",
    "model.compile(optimizer='adam', loss='binary_crossentropy', metrics=['accuracy'])\n",
    "model.fit(X_train, y_train, epochs=5, batch_size=4, validation_split=0.2)"
   ]
  },
  {
   "cell_type": "code",
   "execution_count": 7,
   "metadata": {},
   "outputs": [
    {
     "name": "stderr",
     "output_type": "stream",
     "text": [
      "WARNING:absl:Found untraced functions such as _update_step_xla while saving (showing 1 of 1). These functions will not be directly callable after loading.\n"
     ]
    },
    {
     "name": "stdout",
     "output_type": "stream",
     "text": [
      "INFO:tensorflow:Assets written to: iris_binary_classification_model_tf/assets\n"
     ]
    },
    {
     "name": "stderr",
     "output_type": "stream",
     "text": [
      "INFO:tensorflow:Assets written to: iris_binary_classification_model_tf/assets\n"
     ]
    }
   ],
   "source": [
    "tf.saved_model.save(model, \"iris_binary_classification_model_tf\")"
   ]
  },
  {
   "cell_type": "code",
   "execution_count": 8,
   "metadata": {},
   "outputs": [
    {
     "name": "stdout",
     "output_type": "stream",
     "text": [
      "/home/gatum/.conda/envs/marabou_3/lib/python3.10/runpy.py:126: RuntimeWarning: 'tf2onnx.convert' found in sys.modules after import of package 'tf2onnx', but prior to execution of 'tf2onnx.convert'; this may result in unpredictable behaviour\n",
      "  warn(RuntimeWarning(msg))\n",
      "2024-11-21 18:34:17,396 - WARNING - '--tag' not specified for saved_model. Using --tag serve\n",
      "2024-11-21 18:34:17,660 - INFO - Signatures found in model: [serving_default].\n",
      "2024-11-21 18:34:17,661 - WARNING - '--signature_def' not specified, using first signature: serving_default\n",
      "2024-11-21 18:34:17,661 - INFO - Output names: ['dense_2']\n",
      "2024-11-21 18:34:17,760 - INFO - Using tensorflow=2.12.0, onnx=1.17.0, tf2onnx=1.16.1/15c810\n",
      "2024-11-21 18:34:17,760 - INFO - Using opset <onnx, 15>\n",
      "2024-11-21 18:34:17,766 - INFO - Computed 0 values for constant folding\n",
      "2024-11-21 18:34:17,779 - INFO - Optimizing ONNX model\n",
      "2024-11-21 18:34:17,820 - INFO - After optimization: Identity -2 (2->0)\n",
      "2024-11-21 18:34:17,821 - INFO - \n",
      "2024-11-21 18:34:17,821 - INFO - Successfully converted TensorFlow model iris_binary_classification_model_tf to ONNX\n",
      "2024-11-21 18:34:17,821 - INFO - Model inputs: ['dense_input']\n",
      "2024-11-21 18:34:17,821 - INFO - Model outputs: ['dense_2']\n",
      "2024-11-21 18:34:17,821 - INFO - ONNX model is saved at iris_binary_classification_model.onnx\n"
     ]
    }
   ],
   "source": [
    "!python -m tf2onnx.convert --saved-model iris_binary_classification_model_tf --output iris_binary_classification_model.onnx"
   ]
  },
  {
   "cell_type": "code",
   "execution_count": null,
   "metadata": {},
   "outputs": [],
   "source": []
  }
 ],
 "metadata": {
  "kernelspec": {
   "display_name": "marabou_3",
   "language": "python",
   "name": "python3"
  },
  "language_info": {
   "codemirror_mode": {
    "name": "ipython",
    "version": 3
   },
   "file_extension": ".py",
   "mimetype": "text/x-python",
   "name": "python",
   "nbconvert_exporter": "python",
   "pygments_lexer": "ipython3",
   "version": "3.10.0"
  }
 },
 "nbformat": 4,
 "nbformat_minor": 2
}
